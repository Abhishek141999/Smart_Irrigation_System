{
 "cells": [
  {
   "cell_type": "code",
   "execution_count": 43,
   "id": "f1b1be25",
   "metadata": {},
   "outputs": [],
   "source": [
    "import numpy as np\n",
    "import pandas as pd\n",
    "import tensorflow as tf\n",
    "from tensorflow.keras import activations\n",
    "import matplotlib.pyplot as plt"
   ]
  },
  {
   "cell_type": "code",
   "execution_count": 44,
   "id": "0d580778",
   "metadata": {},
   "outputs": [],
   "source": [
    "data = pd.read_csv('IOT_Assignment_2_data_regression_sensor_range.csv')\n",
    "X = data.iloc[:, :-1].values\n",
    "y = data.iloc[:, -1].values"
   ]
  },
  {
   "cell_type": "code",
   "execution_count": 45,
   "id": "82e659e8",
   "metadata": {},
   "outputs": [
    {
     "data": {
      "text/plain": [
       "<matplotlib.collections.PathCollection at 0x16c6d0a4b50>"
      ]
     },
     "execution_count": 45,
     "metadata": {},
     "output_type": "execute_result"
    },
    {
     "data": {
      "image/png": "[encoded data removed]",
      "text/plain": [
       "<Figure size 432x288 with 1 Axes>"
      ]
     },
     "metadata": {
      "needs_background": "light"
     },
     "output_type": "display_data"
    }
   ],
   "source": [
    "t1 = X[:,0]\n",
    "plt.scatter(t1,y)"
   ]
  },
  {
   "cell_type": "code",
   "execution_count": 46,
   "id": "3891885b",
   "metadata": {},
   "outputs": [
    {
     "data": {
      "text/plain": [
       "<matplotlib.collections.PathCollection at 0x16c6d0cb8b0>"
      ]
     },
     "execution_count": 46,
     "metadata": {},
     "output_type": "execute_result"
    },
    {
     "data": {
      "image/png": "[encoded data removed]",
      "text/plain": [
       "<Figure size 432x288 with 1 Axes>"
      ]
     },
     "metadata": {
      "needs_background": "light"
     },
     "output_type": "display_data"
    }
   ],
   "source": [
    "t2 = X[:,1]\n",
    "plt.scatter(t2,y)"
   ]
  },
  {
   "cell_type": "code",
   "execution_count": 47,
   "id": "f2083b5a",
   "metadata": {},
   "outputs": [
    {
     "data": {
      "text/plain": [
       "<matplotlib.collections.PathCollection at 0x16c6d14eda0>"
      ]
     },
     "execution_count": 47,
     "metadata": {},
     "output_type": "execute_result"
    },
    {
     "data": {
      "image/png": "[encoded data removed]",
      "text/plain": [
       "<Figure size 432x288 with 1 Axes>"
      ]
     },
     "metadata": {
      "needs_background": "light"
     },
     "output_type": "display_data"
    }
   ],
   "source": [
    "plt.scatter(t1,t2)"
   ]
  },
  {
   "cell_type": "code",
   "execution_count": 48,
   "id": "af362c6a",
   "metadata": {},
   "outputs": [],
   "source": [
    "from sklearn.model_selection import train_test_split\n",
    "X_train, X_test, y_train, y_test = train_test_split(X, y, test_size = 0.3, random_state = 0)"
   ]
  },
  {
   "cell_type": "code",
   "execution_count": 63,
   "id": "b9b14841",
   "metadata": {},
   "outputs": [],
   "source": [
    "ann = tf.keras.Sequential()\n",
    "# ann.add(tf.keras.layers.Dense(8, input_shape=(16,)))"
   ]
  },
  {
   "cell_type": "code",
   "execution_count": 64,
   "id": "3dcd9c2d",
   "metadata": {},
   "outputs": [],
   "source": [
    "ann.add(tf.keras.layers.Dense(4))"
   ]
  },
  {
   "cell_type": "code",
   "execution_count": 65,
   "id": "343525bb",
   "metadata": {},
   "outputs": [],
   "source": [
    "ann.add(tf.keras.layers.Dense(4))"
   ]
  },
  {
   "cell_type": "code",
   "execution_count": 66,
   "id": "ff6b3394",
   "metadata": {},
   "outputs": [],
   "source": [
    "ann.add(tf.keras.layers.Dense(units=1,activation='relu'))"
   ]
  },
  {
   "cell_type": "code",
   "execution_count": 77,
   "id": "32244fd8",
   "metadata": {},
   "outputs": [],
   "source": [
    "# custom_optimizer = tf.keras.optimizers.SGD(learning_rate=10)\n",
    "ann.compile(optimizer = 'adamax', loss = 'mse')"
   ]
  },
  {
   "cell_type": "code",
   "execution_count": 78,
   "id": "528d4be5",
   "metadata": {},
   "outputs": [
    {
     "name": "stdout",
     "output_type": "stream",
     "text": [
      "Epoch 1/100\n",
      "4/4 [==============================] - 0s 3ms/step - loss: 1500.8262\n",
      "Epoch 2/100\n",
      "4/4 [==============================] - 0s 3ms/step - loss: 1500.8260\n",
      "Epoch 3/100\n",
      "4/4 [==============================] - 0s 5ms/step - loss: 1500.8262\n",
      "Epoch 4/100\n",
      "4/4 [==============================] - 0s 3ms/step - loss: 1500.8262\n",
      "Epoch 5/100\n",
      "4/4 [==============================] - 0s 3ms/step - loss: 1500.8260\n",
      "Epoch 6/100\n",
      "4/4 [==============================] - 0s 3ms/step - loss: 1500.8260\n",
      "Epoch 7/100\n",
      "4/4 [==============================] - 0s 5ms/step - loss: 1500.8260\n",
      "Epoch 8/100\n",
      "4/4 [==============================] - 0s 3ms/step - loss: 1500.8260\n",
      "Epoch 9/100\n",
      "4/4 [==============================] - 0s 3ms/step - loss: 1500.8262\n",
      "Epoch 10/100\n",
      "4/4 [==============================] - 0s 5ms/step - loss: 1500.8262\n",
      "Epoch 11/100\n",
      "4/4 [==============================] - 0s 3ms/step - loss: 1500.8260\n",
      "Epoch 12/100\n",
      "4/4 [==============================] - 0s 3ms/step - loss: 1500.8262\n",
      "Epoch 13/100\n",
      "4/4 [==============================] - 0s 3ms/step - loss: 1500.8260\n",
      "Epoch 14/100\n",
      "4/4 [==============================] - 0s 5ms/step - loss: 1500.8260\n",
      "Epoch 15/100\n",
      "4/4 [==============================] - 0s 3ms/step - loss: 1500.8262\n",
      "Epoch 16/100\n",
      "4/4 [==============================] - 0s 5ms/step - loss: 1500.8262\n",
      "Epoch 17/100\n",
      "4/4 [==============================] - 0s 3ms/step - loss: 1500.8262\n",
      "Epoch 18/100\n",
      "4/4 [==============================] - 0s 5ms/step - loss: 1500.8260\n",
      "Epoch 19/100\n",
      "4/4 [==============================] - 0s 3ms/step - loss: 1500.8262\n",
      "Epoch 20/100\n",
      "4/4 [==============================] - 0s 5ms/step - loss: 1500.8260\n",
      "Epoch 21/100\n",
      "4/4 [==============================] - 0s 3ms/step - loss: 1500.8262\n",
      "Epoch 22/100\n",
      "4/4 [==============================] - 0s 5ms/step - loss: 1500.8260\n",
      "Epoch 23/100\n",
      "4/4 [==============================] - 0s 5ms/step - loss: 1500.8262\n",
      "Epoch 24/100\n",
      "4/4 [==============================] - 0s 3ms/step - loss: 1500.8260\n",
      "Epoch 25/100\n",
      "4/4 [==============================] - 0s 3ms/step - loss: 1500.8259\n",
      "Epoch 26/100\n",
      "4/4 [==============================] - 0s 5ms/step - loss: 1500.8260\n",
      "Epoch 27/100\n",
      "4/4 [==============================] - 0s 3ms/step - loss: 1500.8262\n",
      "Epoch 28/100\n",
      "4/4 [==============================] - 0s 5ms/step - loss: 1500.8260\n",
      "Epoch 29/100\n",
      "4/4 [==============================] - 0s 3ms/step - loss: 1500.8262\n",
      "Epoch 30/100\n",
      "4/4 [==============================] - 0s 5ms/step - loss: 1500.8260\n",
      "Epoch 31/100\n",
      "4/4 [==============================] - 0s 5ms/step - loss: 1500.8262\n",
      "Epoch 32/100\n",
      "4/4 [==============================] - 0s 3ms/step - loss: 1500.8262\n",
      "Epoch 33/100\n",
      "4/4 [==============================] - 0s 5ms/step - loss: 1500.8260\n",
      "Epoch 34/100\n",
      "4/4 [==============================] - 0s 5ms/step - loss: 1500.8262\n",
      "Epoch 35/100\n",
      "4/4 [==============================] - 0s 5ms/step - loss: 1500.8262\n",
      "Epoch 36/100\n",
      "4/4 [==============================] - 0s 5ms/step - loss: 1500.8259\n",
      "Epoch 37/100\n",
      "4/4 [==============================] - 0s 3ms/step - loss: 1500.8259\n",
      "Epoch 38/100\n",
      "4/4 [==============================] - 0s 5ms/step - loss: 1500.8260\n",
      "Epoch 39/100\n",
      "4/4 [==============================] - 0s 3ms/step - loss: 1500.8260\n",
      "Epoch 40/100\n",
      "4/4 [==============================] - 0s 5ms/step - loss: 1500.8262\n",
      "Epoch 41/100\n",
      "4/4 [==============================] - 0s 3ms/step - loss: 1500.8262\n",
      "Epoch 42/100\n",
      "4/4 [==============================] - 0s 3ms/step - loss: 1500.8260\n",
      "Epoch 43/100\n",
      "4/4 [==============================] - 0s 3ms/step - loss: 1500.8262\n",
      "Epoch 44/100\n",
      "4/4 [==============================] - 0s 5ms/step - loss: 1500.8262\n",
      "Epoch 45/100\n",
      "4/4 [==============================] - 0s 3ms/step - loss: 1500.8260\n",
      "Epoch 46/100\n",
      "4/4 [==============================] - 0s 5ms/step - loss: 1500.8259\n",
      "Epoch 47/100\n",
      "4/4 [==============================] - 0s 5ms/step - loss: 1500.8259\n",
      "Epoch 48/100\n",
      "4/4 [==============================] - 0s 3ms/step - loss: 1500.8260\n",
      "Epoch 49/100\n",
      "4/4 [==============================] - 0s 3ms/step - loss: 1500.8260\n",
      "Epoch 50/100\n",
      "4/4 [==============================] - 0s 3ms/step - loss: 1500.8262\n",
      "Epoch 51/100\n",
      "4/4 [==============================] - 0s 3ms/step - loss: 1500.8262\n",
      "Epoch 52/100\n",
      "4/4 [==============================] - 0s 3ms/step - loss: 1500.8262\n",
      "Epoch 53/100\n",
      "4/4 [==============================] - 0s 3ms/step - loss: 1500.8262\n",
      "Epoch 54/100\n",
      "4/4 [==============================] - 0s 5ms/step - loss: 1500.8262\n",
      "Epoch 55/100\n",
      "4/4 [==============================] - 0s 3ms/step - loss: 1500.8262\n",
      "Epoch 56/100\n",
      "4/4 [==============================] - 0s 3ms/step - loss: 1500.8260\n",
      "Epoch 57/100\n",
      "4/4 [==============================] - 0s 3ms/step - loss: 1500.8260\n",
      "Epoch 58/100\n",
      "4/4 [==============================] - 0s 5ms/step - loss: 1500.8260\n",
      "Epoch 59/100\n",
      "4/4 [==============================] - 0s 5ms/step - loss: 1500.8262\n",
      "Epoch 60/100\n",
      "4/4 [==============================] - 0s 3ms/step - loss: 1500.8260\n",
      "Epoch 61/100\n",
      "4/4 [==============================] - 0s 3ms/step - loss: 1500.8262\n",
      "Epoch 62/100\n",
      "4/4 [==============================] - 0s 3ms/step - loss: 1500.8260\n",
      "Epoch 63/100\n",
      "4/4 [==============================] - 0s 3ms/step - loss: 1500.8262\n",
      "Epoch 64/100\n",
      "4/4 [==============================] - 0s 3ms/step - loss: 1500.8262\n",
      "Epoch 65/100\n",
      "4/4 [==============================] - 0s 3ms/step - loss: 1500.8260\n",
      "Epoch 66/100\n",
      "4/4 [==============================] - 0s 3ms/step - loss: 1500.8260\n",
      "Epoch 67/100\n",
      "4/4 [==============================] - 0s 3ms/step - loss: 1500.8260\n",
      "Epoch 68/100\n",
      "4/4 [==============================] - 0s 5ms/step - loss: 1500.8262\n",
      "Epoch 69/100\n",
      "4/4 [==============================] - 0s 3ms/step - loss: 1500.8260\n",
      "Epoch 70/100\n",
      "4/4 [==============================] - 0s 5ms/step - loss: 1500.8262\n",
      "Epoch 71/100\n",
      "4/4 [==============================] - 0s 3ms/step - loss: 1500.8262\n",
      "Epoch 72/100\n",
      "4/4 [==============================] - 0s 5ms/step - loss: 1500.8262\n",
      "Epoch 73/100\n",
      "4/4 [==============================] - 0s 3ms/step - loss: 1500.8260\n",
      "Epoch 74/100\n",
      "4/4 [==============================] - 0s 5ms/step - loss: 1500.8260\n",
      "Epoch 75/100\n",
      "4/4 [==============================] - 0s 3ms/step - loss: 1500.8260\n",
      "Epoch 76/100\n",
      "4/4 [==============================] - 0s 5ms/step - loss: 1500.8262\n",
      "Epoch 77/100\n",
      "4/4 [==============================] - 0s 3ms/step - loss: 1500.8260\n",
      "Epoch 78/100\n",
      "4/4 [==============================] - 0s 5ms/step - loss: 1500.8262\n",
      "Epoch 79/100\n",
      "4/4 [==============================] - 0s 3ms/step - loss: 1500.8260\n",
      "Epoch 80/100\n",
      "4/4 [==============================] - 0s 5ms/step - loss: 1500.8262\n",
      "Epoch 81/100\n",
      "4/4 [==============================] - 0s 5ms/step - loss: 1500.8262\n",
      "Epoch 82/100\n",
      "4/4 [==============================] - 0s 5ms/step - loss: 1500.8260\n",
      "Epoch 83/100\n",
      "4/4 [==============================] - 0s 3ms/step - loss: 1500.8262\n",
      "Epoch 84/100\n",
      "4/4 [==============================] - 0s 3ms/step - loss: 1500.8262\n",
      "Epoch 85/100\n",
      "4/4 [==============================] - 0s 5ms/step - loss: 1500.8260\n",
      "Epoch 86/100\n",
      "4/4 [==============================] - 0s 5ms/step - loss: 1500.8260\n",
      "Epoch 87/100\n",
      "4/4 [==============================] - 0s 5ms/step - loss: 1500.8262\n",
      "Epoch 88/100\n",
      "4/4 [==============================] - 0s 3ms/step - loss: 1500.8262\n",
      "Epoch 89/100\n",
      "4/4 [==============================] - 0s 3ms/step - loss: 1500.8260\n",
      "Epoch 90/100\n",
      "4/4 [==============================] - 0s 3ms/step - loss: 1500.8262\n",
      "Epoch 91/100\n",
      "4/4 [==============================] - 0s 5ms/step - loss: 1500.8262\n",
      "Epoch 92/100\n",
      "4/4 [==============================] - 0s 3ms/step - loss: 1500.8262\n",
      "Epoch 93/100\n",
      "4/4 [==============================] - 0s 5ms/step - loss: 1500.8260\n",
      "Epoch 94/100\n",
      "4/4 [==============================] - 0s 3ms/step - loss: 1500.8262\n",
      "Epoch 95/100\n",
      "4/4 [==============================] - 0s 3ms/step - loss: 1500.8260\n",
      "Epoch 96/100\n",
      "4/4 [==============================] - 0s 5ms/step - loss: 1500.8262\n",
      "Epoch 97/100\n",
      "4/4 [==============================] - 0s 3ms/step - loss: 1500.8262\n",
      "Epoch 98/100\n",
      "4/4 [==============================] - 0s 3ms/step - loss: 1500.8262\n",
      "Epoch 99/100\n",
      "4/4 [==============================] - 0s 3ms/step - loss: 1500.8262\n",
      "Epoch 100/100\n",
      "4/4 [==============================] - 0s 3ms/step - loss: 1500.8262\n"
     ]
    },
    {
     "data": {
      "text/plain": [
       "<keras.callbacks.History at 0x16c6e58a4d0>"
      ]
     },
     "execution_count": 78,
     "metadata": {},
     "output_type": "execute_result"
    }
   ],
   "source": [
    "ann.fit(X_train, y_train, epochs = 100)"
   ]
  },
  {
   "cell_type": "code",
   "execution_count": 89,
   "id": "a2198153",
   "metadata": {},
   "outputs": [
    {
     "name": "stdout",
     "output_type": "stream",
     "text": [
      "2/2 [==============================] - 0s 0s/step\n"
     ]
    },
    {
     "data": {
      "text/plain": [
       "[<tf.Variable 'dense_12/kernel:0' shape=(4, 1) dtype=float32, numpy=\n",
       " array([[ 0.82267034],\n",
       "        [-0.8643157 ],\n",
       "        [ 0.2689358 ],\n",
       "        [-0.9581499 ]], dtype=float32)>,\n",
       " <tf.Variable 'dense_12/bias:0' shape=(1,) dtype=float32, numpy=array([0.], dtype=float32)>]"
      ]
     },
     "execution_count": 89,
     "metadata": {},
     "output_type": "execute_result"
    }
   ],
   "source": [
    "from sklearn.metrics import r2_score\n",
    "y_pred = ann.predict(X_test)\n",
    "R2 = r2_score(y_test, y_pred, multioutput='variance_weighted')\n",
    "ann.layers[2].weights"
   ]
  },
  {
   "cell_type": "code",
   "execution_count": 70,
   "id": "ee64ef87",
   "metadata": {},
   "outputs": [
    {
     "data": {
      "text/plain": [
       "-0.9530532292365792"
      ]
     },
     "execution_count": 70,
     "metadata": {},
     "output_type": "execute_result"
    }
   ],
   "source": [
    "R2"
   ]
  },
  {
   "cell_type": "raw",
   "id": "f18b15cc",
   "metadata": {},
   "source": [
    "filename = 'final_model.sav'"
   ]
  },
  {
   "cell_type": "raw",
   "id": "3f094cba",
   "metadata": {},
   "source": [
    "import pickle"
   ]
  },
  {
   "cell_type": "raw",
   "id": "2de0964d",
   "metadata": {},
   "source": [
    "pickle.dump(ann, open(filename, 'wb'))"
   ]
  },
  {
   "cell_type": "code",
   "execution_count": null,
   "id": "cc05a0f6",
   "metadata": {},
   "outputs": [],
   "source": [
    "#from keras.models import load_model"
   ]
  },
  {
   "cell_type": "code",
   "execution_count": null,
   "id": "a8ca256a",
   "metadata": {},
   "outputs": [],
   "source": [
    "#ann.save('final2.h5')"
   ]
  },
  {
   "cell_type": "code",
   "execution_count": null,
   "id": "8b8abf59",
   "metadata": {},
   "outputs": [],
   "source": [
    "# model_final = load_model('final_model.h5')"
   ]
  },
  {
   "cell_type": "code",
   "execution_count": null,
   "id": "361fa783",
   "metadata": {},
   "outputs": [],
   "source": []
  }
 ],
 "metadata": {
  "kernelspec": {
   "display_name": "Python 3 (ipykernel)",
   "language": "python",
   "name": "python3"
  },
  "language_info": {
   "codemirror_mode": {
    "name": "ipython",
    "version": 3
   },
   "file_extension": ".py",
   "mimetype": "text/x-python",
   "name": "python",
   "nbconvert_exporter": "python",
   "pygments_lexer": "ipython3",
   "version": "3.10.5"
  }
 },
 "nbformat": 4,
 "nbformat_minor": 5
}
